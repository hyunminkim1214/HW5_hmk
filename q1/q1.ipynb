{
 "cells": [
  {
   "cell_type": "code",
   "execution_count": 6,
   "id": "d2a0cc93",
   "metadata": {},
   "outputs": [
    {
     "name": "stdout",
     "output_type": "stream",
     "text": [
      "Hello,World!\n",
      "*** Annual Temperature Report for Seoul in 2022***\n",
      "Average Temperature: 13.26 Celsius\n",
      "Average Minimum Temperature: 9.21 Celsius\n",
      "Average Maximum Temperature: 18.05 Celsius\n"
     ]
    }
   ],
   "source": [
    "def main():\n",
    "    print(\"Hello,World!\")\n",
    "    \n",
    "if __name__=='__main__':\n",
    "    main()\n",
    "import csv\n",
    "import math\n",
    "f=open('2022_Seoul_Temp.csv',encoding='cp949')\n",
    "data=csv.reader(f)\n",
    "header=next(data)\n",
    "s=['Average Temperature','Average Minimum Temperature','Average Maximum Temperature']\n",
    "avr=0\n",
    "n=0\n",
    "min=0\n",
    "max=0\n",
    "for row in data:\n",
    "    if(row[-1]!='')&(row[-2]!='')&(row[-3]!=''):\n",
    "        avr+=float(row[-3])\n",
    "        min+=float(row[-2])\n",
    "        max+=float(row[-1])\n",
    "        n+=1\n",
    "avr=avr/n\n",
    "min=min/n\n",
    "max=max/n\n",
    "print('*** Annual Temperature Report for Seoul in 2022***')\n",
    "print(s[0]+': '+str(round(avr,2))+' Celsius')\n",
    "print(s[1]+': '+str(round(min,2))+' Celsius')\n",
    "print(s[2]+': '+str(round(max,2))+' Celsius')"
   ]
  },
  {
   "cell_type": "code",
   "execution_count": null,
   "id": "bf279998",
   "metadata": {},
   "outputs": [],
   "source": []
  }
 ],
 "metadata": {
  "kernelspec": {
   "display_name": "Python 3 (ipykernel)",
   "language": "python",
   "name": "python3"
  },
  "language_info": {
   "codemirror_mode": {
    "name": "ipython",
    "version": 3
   },
   "file_extension": ".py",
   "mimetype": "text/x-python",
   "name": "python",
   "nbconvert_exporter": "python",
   "pygments_lexer": "ipython3",
   "version": "3.9.13"
  }
 },
 "nbformat": 4,
 "nbformat_minor": 5
}
