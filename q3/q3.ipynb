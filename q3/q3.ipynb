{
 "cells": [
  {
   "cell_type": "code",
   "execution_count": 13,
   "id": "105ec27d",
   "metadata": {},
   "outputs": [
    {
     "name": "stdout",
     "output_type": "stream",
     "text": [
      "Hello,World!\n",
      "*** Annual Temperature Report for Seoul in 2022***\n",
      "1st Busiest Line: Line 2(85620512)\n",
      "2nd Busiest Line: Line 5(39671990)\n",
      "1st Least used Line: Line 8(11863928)\n",
      "2nd Least used Line: Line 1(14705833)\n"
     ]
    }
   ],
   "source": [
    "def main():\n",
    "    print(\"Hello,World!\")\n",
    "    \n",
    "if __name__=='__main__':\n",
    "    main()\n",
    "import csv\n",
    "\n",
    "f=open('202303_Seoul_Subway.csv',encoding='utf-8')\n",
    "data=csv.reader(f)\n",
    "header=next(data)\n",
    "line=['1호선','2호선','3호선','4호선','5호선','6호선','7호선','8호선','9호선']\n",
    "num=[0,0,0,0,0,0,0,0,0]\n",
    "max=0\n",
    "m_idx=0\n",
    "min=0\n",
    "for row in data:\n",
    "    for i,l in enumerate(line):\n",
    "        if(row[1]==l):\n",
    "            num[i]+=int(row[-1])+int(row[-2])\n",
    "for i,n in enumerate(num):\n",
    "        if n > max:\n",
    "            second = max\n",
    "            s_idx=m_idx\n",
    "            max = n\n",
    "            m_idx=i\n",
    "        elif second < n < max:\n",
    "            second = n\n",
    "            s_idx=i\n",
    "print('*** Annual Temperature Report for Seoul in 2022***')\n",
    "print('1st Busiest Line: Line '+str(m_idx+1)+'('+str(max)+')')\n",
    "print('2nd Busiest Line: Line '+str(s_idx+1)+'('+str(second)+')')\n",
    "m_idx=0\n",
    "s_idx=0\n",
    "min=10**8\n",
    "second=2*10**8\n",
    "for i,n in enumerate(num):\n",
    "        if n < min:\n",
    "            second = min\n",
    "            s_idx=m_idx\n",
    "            min = n\n",
    "            m_idx=i\n",
    "        elif second > n > min:\n",
    "            second = n\n",
    "            s_idx=i\n",
    "print('1st Least used Line: Line '+str(m_idx+1)+'('+str(min)+')')\n",
    "print('2nd Least used Line: Line '+str(s_idx+1)+'('+str(second)+')')"
   ]
  },
  {
   "cell_type": "code",
   "execution_count": null,
   "id": "3ccc2a02",
   "metadata": {},
   "outputs": [],
   "source": []
  },
  {
   "cell_type": "code",
   "execution_count": null,
   "id": "e926d202",
   "metadata": {},
   "outputs": [],
   "source": []
  }
 ],
 "metadata": {
  "kernelspec": {
   "display_name": "Python 3 (ipykernel)",
   "language": "python",
   "name": "python3"
  },
  "language_info": {
   "codemirror_mode": {
    "name": "ipython",
    "version": 3
   },
   "file_extension": ".py",
   "mimetype": "text/x-python",
   "name": "python",
   "nbconvert_exporter": "python",
   "pygments_lexer": "ipython3",
   "version": "3.9.13"
  }
 },
 "nbformat": 4,
 "nbformat_minor": 5
}
