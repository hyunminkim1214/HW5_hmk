{
 "cells": [
  {
   "cell_type": "code",
   "execution_count": 8,
   "id": "7595dd12",
   "metadata": {},
   "outputs": [
    {
     "name": "stdout",
     "output_type": "stream",
     "text": [
      "Hello,World!\n",
      "***Subway Report for Seoul on March 2023***\n",
      "Line 1:\n",
      "Busiest Station: 서울역(3084227)\n",
      "Least used Station: 동묘앞(658566)\n",
      "Line 2:\n",
      "Busiest Station: 강남(4690366)\n",
      "Least used Station: 도림천(80084)\n",
      "Line 3:\n",
      "Busiest Station: 고속터미널(2886887)\n",
      "Least used Station: 충무로(48)\n",
      "Line 4:\n",
      "Busiest Station: 혜화(2286709)\n",
      "Least used Station: 남태령(79916)\n"
     ]
    }
   ],
   "source": [
    "def main():\n",
    "    print(\"Hello,World!\")\n",
    "    \n",
    "if __name__=='__main__':\n",
    "    main()\n",
    "import csv\n",
    "\n",
    "f=open('202303_Seoul_Subway.csv',encoding='utf-8')\n",
    "data=csv.reader(f)\n",
    "header=next(data)\n",
    "line=['1호선','2호선','3호선','4호선']\n",
    "max=[0,0,0,0]\n",
    "min=[10**7,10**7,10**7,10**7]\n",
    "max_station=['','','','']\n",
    "min_station=['','','','']\n",
    "for row in data:\n",
    "    for i,l in enumerate(line):\n",
    "        if(row[1]==l):\n",
    "            if(int(row[-1])+int(row[-2])>max[i]):\n",
    "                max[i]=int(row[-1])+int(row[-2])\n",
    "                max_station[i]=row[-3]\n",
    "            if(int(row[-1])+int(row[-2])<min[i]):\n",
    "                min[i]=int(row[-1])+int(row[-2])\n",
    "                min_station[i]=row[-3]\n",
    "print('***Subway Report for Seoul on March 2023***')\n",
    "for i in range(4):\n",
    "    print('Line '+str(i+1)+':')\n",
    "    print('Busiest Station: '+max_station[i]+'('+str(max[i])+')')\n",
    "    print('Least used Station: '+min_station[i]+'('+str(min[i])+')')"
   ]
  },
  {
   "cell_type": "code",
   "execution_count": null,
   "id": "60de3887",
   "metadata": {},
   "outputs": [],
   "source": []
  }
 ],
 "metadata": {
  "kernelspec": {
   "display_name": "Python 3 (ipykernel)",
   "language": "python",
   "name": "python3"
  },
  "language_info": {
   "codemirror_mode": {
    "name": "ipython",
    "version": 3
   },
   "file_extension": ".py",
   "mimetype": "text/x-python",
   "name": "python",
   "nbconvert_exporter": "python",
   "pygments_lexer": "ipython3",
   "version": "3.9.13"
  }
 },
 "nbformat": 4,
 "nbformat_minor": 5
}
