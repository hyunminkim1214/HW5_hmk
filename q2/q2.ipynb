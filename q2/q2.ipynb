{
 "cells": [
  {
   "cell_type": "code",
   "execution_count": 10,
   "id": "2685f36a",
   "metadata": {},
   "outputs": [
    {
     "name": "stdout",
     "output_type": "stream",
     "text": [
      "Hello,World!\n",
      "*** Annual Temperature Report for Seoul in 2022***\n",
      "Day with the Largest Temperature Variation: : 2022-11-29\n",
      "Maximum Temperature Difference: 16.6 Celsius\n",
      "Day with the Smallest Temperature Variation: : 2022-06-29\n",
      "Minimum Temperature Difference: 1.7 Celsius\n"
     ]
    }
   ],
   "source": [
    "def main():\n",
    "    print(\"Hello,World!\")\n",
    "    \n",
    "if __name__=='__main__':\n",
    "    main()\n",
    "import csv\n",
    "import math\n",
    "f=open('2022_Seoul_Temp.csv',encoding='cp949')\n",
    "data=csv.reader(f)\n",
    "header=next(data)\n",
    "s=['Day with the Largest Temperature Variation: ','Maximum Temperature Difference','Day with the Smallest Temperature Variation: ','Minimum Temperature Difference']\n",
    "min=999\n",
    "max=0\n",
    "for row in data:\n",
    "    if(row[-1]!='')&(row[-2]!='')&(row[-3]!=''):\n",
    "        if(min>=float(row[-1])-float(row[-2])):\n",
    "            min=float(row[-1])-float(row[-2])\n",
    "            day_min=row[-5]\n",
    "        if(max<=float(row[-1])-float(row[-2])):\n",
    "            max=float(row[-1])-float(row[-2])\n",
    "            day_max=row[-5]\n",
    "print('*** Annual Temperature Report for Seoul in 2022***')\n",
    "print(s[0]+': '+day_max)\n",
    "print(s[1]+': '+str(max)+' Celsius')\n",
    "print(s[2]+': '+day_min)\n",
    "print(s[3]+': '+str(round(min,1))+' Celsius')\n"
   ]
  },
  {
   "cell_type": "code",
   "execution_count": null,
   "id": "9d9afba0",
   "metadata": {},
   "outputs": [],
   "source": []
  },
  {
   "cell_type": "code",
   "execution_count": null,
   "id": "c5c5a063",
   "metadata": {},
   "outputs": [],
   "source": []
  }
 ],
 "metadata": {
  "kernelspec": {
   "display_name": "Python 3 (ipykernel)",
   "language": "python",
   "name": "python3"
  },
  "language_info": {
   "codemirror_mode": {
    "name": "ipython",
    "version": 3
   },
   "file_extension": ".py",
   "mimetype": "text/x-python",
   "name": "python",
   "nbconvert_exporter": "python",
   "pygments_lexer": "ipython3",
   "version": "3.9.13"
  }
 },
 "nbformat": 4,
 "nbformat_minor": 5
}
